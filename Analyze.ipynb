{
 "cells": [
  {
   "cell_type": "code",
   "execution_count": 1,
   "metadata": {},
   "outputs": [],
   "source": [
    "import pandas as pd\n",
    "import http.client\n",
    "import json\n",
    "import vnstock as vs"
   ]
  },
  {
   "attachments": {},
   "cell_type": "markdown",
   "metadata": {},
   "source": [
    "Get all company information"
   ]
  },
  {
   "cell_type": "code",
   "execution_count": 2,
   "metadata": {},
   "outputs": [],
   "source": [
    "conn = http.client.HTTPSConnection(\"fiin-core.ssi.com.vn\")\n",
    "payload = ''\n",
    "headers = {\n",
    "  'authority': 'fiin-core.ssi.com.vn',\n",
    "  'accept': 'application/json',\n",
    "  'accept-language': 'en-US,en;q=0.9',\n",
    "  'content-type': 'application/json',\n",
    "  'dnt': '1',\n",
    "  'origin': 'https://iboard.ssi.com.vn',\n",
    "  'referer': 'https://iboard.ssi.com.vn/',\n",
    "  'sec-ch-ua': '\"Edge\";v=\"114\", \"Chromium\";v=\"114\", \"Not=A?Brand\";v=\"24\"',\n",
    "  'sec-ch-ua-mobile': '?0',\n",
    "  'sec-ch-ua-platform': '\"macOS\"',\n",
    "  'sec-fetch-dest': 'empty',\n",
    "  'sec-fetch-mode': 'cors',\n",
    "  'sec-fetch-site': 'same-site',\n",
    "  'user-agent': 'Mozilla/5.0 (Macintosh; Intel Mac OS X 10_15_7) AppleWebKit/537.36 (KHTML, like Gecko) Chrome/114.0.0.0 Safari/537.36 Edg/114.0.1788.0  uacq',\n",
    "  'x-fiin-key': 'KEY',\n",
    "  'x-fiin-seed': 'SEED',\n",
    "  'x-fiin-user-id': 'ID'\n",
    "}\n",
    "conn.request(\"GET\", \"/Master/GetListOrganization?language=vi\", payload, headers)\n",
    "res = conn.getresponse()\n",
    "data = res.read()\n",
    "# \n",
    "# convert data into dataframe with the key 'items'\n",
    "df_company_list = pd.DataFrame(json.loads(data)['items'])\n",
    "df_company_list.set_index('ticker', inplace=True)"
   ]
  },
  {
   "attachments": {},
   "cell_type": "markdown",
   "metadata": {},
   "source": [
    "Set variable"
   ]
  },
  {
   "cell_type": "code",
   "execution_count": 6,
   "metadata": {},
   "outputs": [],
   "source": [
    "#Declare variable to hold list of company \n",
    "ticker_list = list(df_company_list.reset_index()['ticker'])\n",
    "\n",
    "#Set time for get stock data\n",
    "start_period = pd.Period('2021-01', freq='Q-DEC')\n",
    "end_period = pd.Period('2023-03', freq='Q-DEC')"
   ]
  },
  {
   "cell_type": "code",
   "execution_count": 158,
   "metadata": {},
   "outputs": [],
   "source": [
    "#Get income statement\n",
    "pd.set_option('display.max_columns', None)\n",
    "\n",
    "df_concat = []\n",
    "\n",
    "#Request API and append data\n",
    "for i in ticker_list:\n",
    "    try:\n",
    "        df_data = vs.financial_flow(symbol=i, report_type='incomestatement', report_range='quarterly')[['ticker','postTaxProfit']]\n",
    "        df_data.index = pd.to_datetime(df_data.index).to_period('Q')\n",
    "        df_data = df_data[df_data.index >= start_period]\n",
    "        df_data = df_data[df_data.index <= end_period]\n",
    "        df_concat.append(df_data)\n",
    "    except KeyError:\n",
    "        pass\n",
    "df_concat = pd.concat(df_concat)\n",
    "df_incomestatement = df_concat.set_index(df_concat['ticker'], append=True)\n",
    "del(df_incomestatement['ticker'])\n"
   ]
  },
  {
   "cell_type": "code",
   "execution_count": 159,
   "metadata": {},
   "outputs": [],
   "source": [
    "#Create Year on Year and Quarter on Quarter column\n",
    "df_incomestatement['Quarter On Quarter'] = df_incomestatement.groupby('ticker')['postTaxProfit'].shift(periods=-1)\n",
    "df_incomestatement['Year on Year'] = df_incomestatement.groupby('ticker')['postTaxProfit'].shift(periods=-4)\n",
    "df_incomestatement['YoY-ratio'] = (df_incomestatement['postTaxProfit']/df_incomestatement['Year on Year']) - 1"
   ]
  },
  {
   "cell_type": "code",
   "execution_count": 160,
   "metadata": {},
   "outputs": [],
   "source": [
    "#Add year to date sum column\n",
    "df_incomestatement.reset_index(inplace=True)\n",
    "df_incomestatement['RecordYear'] = df_incomestatement['index'].dt.to_timestamp().dt.year\n",
    "df_incomestatement.set_index(['RecordYear', 'ticker'], inplace=True)\n",
    "df_incomestatement['YTD postTaxProfit'] = df_incomestatement.groupby(['RecordYear', 'ticker'])[['postTaxProfit']].sum()"
   ]
  },
  {
   "cell_type": "code",
   "execution_count": 161,
   "metadata": {},
   "outputs": [],
   "source": [
    "test = ','.join(ticker_list)\n",
    "i = 0\n",
    "\n",
    "df_marketcap = []\n",
    "while i <= len(ticker_list):\n",
    "    try:\n",
    "        df_data_mark = vs.stock_ls_analysis(','.join(ticker_list[i:i+2]))[['ticker','marcap', 'price']]\n",
    "        df_marketcap.append(df_data_mark)\n",
    "        i = i + 2\n",
    "    except KeyError:\n",
    "        i = i + 2\n",
    "        pass\n",
    "\n",
    "df_marketcap= pd.concat(df_marketcap)\n",
    "df_marketcap.set_index('ticker', inplace=True)"
   ]
  },
  {
   "cell_type": "code",
   "execution_count": 162,
   "metadata": {},
   "outputs": [],
   "source": [
    "df_financial = []\n",
    "\n",
    "\n",
    "\n",
    "for i in ticker_list:\n",
    "    try:\n",
    "        df_data = vs.financial_ratio(i, 'quarterly', True)[['quarter','year','ticker', 'roe','priceToBook','earningPerShare', 'priceToEarning']]\n",
    "\n",
    "        df_data['StockTime'] = df_data['year'].astype('str') +  'Q' + df_data['quarter'].astype('str')\n",
    "        df_data.set_index('StockTime', inplace=True)\n",
    "        df_data.index = pd.to_datetime(df_data.index).to_period('Q')\n",
    "        del(df_data['quarter'])\n",
    "        del(df_data['year'])\n",
    "        df_data.set_index(df_data['ticker'], append=True, inplace=True)\n",
    "        del(df_data['ticker'])\n",
    "\n",
    "        df_data = df_data.astype({'earningPerShare':float, 'priceToEarning':float})\n",
    "\n",
    "        df_data = df_data[df_data.index.get_level_values('StockTime') >= start_period]\n",
    "        df_data = df_data[df_data.index.get_level_values('StockTime') <= end_period]\n",
    "\n",
    "        df_financial.append(df_data)\n",
    "    except KeyError:\n",
    "        pass\n",
    "\n",
    "df_financial = pd.concat(df_financial)"
   ]
  },
  {
   "cell_type": "code",
   "execution_count": 163,
   "metadata": {},
   "outputs": [],
   "source": [
    "#Add sum of EPS across 4 latest quarter, EPS/4Q EPS\n",
    "df_financial_final = df_financial.join(df_financial.reset_index('ticker').groupby('ticker')[['earningPerShare']].rolling(4).sum().shift(-3), rsuffix='-4Q')\n",
    "df_financial_final['EPS/4Q EPS'] = df_financial_final['earningPerShare'] / df_financial_final['earningPerShare-4Q']"
   ]
  },
  {
   "cell_type": "code",
   "execution_count": 164,
   "metadata": {},
   "outputs": [],
   "source": [
    "#Joining df_financial_final with df_incomestatement\n",
    "df_info = df_incomestatement\\\n",
    "    .reset_index(level=0)\\\n",
    "    .rename(columns={'index':'StockTime'})\\\n",
    "    .set_index('StockTime', append=True)\\\n",
    "    .drop(columns='RecordYear')\\\n",
    "    .join(df_financial_final)"
   ]
  },
  {
   "cell_type": "code",
   "execution_count": 165,
   "metadata": {},
   "outputs": [],
   "source": [
    "#Get a list of ticker base on marketcap\n",
    "filter_marcap_list =  list(df_marketcap.query(\"marcap >= 1000\").reset_index()['ticker'])\n",
    "\n",
    "#Filter base on specific stocktime and  ticker_list and other conditions\n",
    "filter_stock_time = pd.Period('2023-02', freq='Q-DEC')\n",
    "\n",
    "df_info_filter = df_info[df_info.index.get_level_values('ticker').isin(filter_marcap_list)]\\\n",
    "    .query(\"`YoY-ratio` > 0.35 & earningPerShare > 800 & `EPS/4Q EPS` > 0.3\")\\\n",
    "    .reset_index()\\\n",
    "    \n",
    "df_final = df_info_filter[df_info_filter['StockTime'] == filter_stock_time]\\\n",
    "    .set_index('ticker')\\\n",
    "    .join(df_marketcap)\\\n",
    "    .join(df_company_list[['organShortName']])\n"
   ]
  },
  {
   "cell_type": "code",
   "execution_count": 166,
   "metadata": {},
   "outputs": [],
   "source": [
    "df_final['Price / PriceToBook'] = df_final['price'] / df_final['priceToBook']\n",
    "df_final['Predicted Price'] = (df_final['earningPerShare-4Q'] * df_final['Price / PriceToBook'] * 22.5)**(1/2)\n",
    "df_final['Diff-ratio predicted vs current price'] = (df_final['Predicted Price']  / df_final['price']) - 1\n",
    "df_final.sort_values('Diff-ratio predicted vs current price', ascending = False, inplace=True)"
   ]
  },
  {
   "cell_type": "code",
   "execution_count": 169,
   "metadata": {},
   "outputs": [],
   "source": [
    "df_final.reset_index().to_excel('final.xlsx',index=False)"
   ]
  }
 ],
 "metadata": {
  "kernelspec": {
   "display_name": "base",
   "language": "python",
   "name": "python3"
  },
  "language_info": {
   "codemirror_mode": {
    "name": "ipython",
    "version": 3
   },
   "file_extension": ".py",
   "mimetype": "text/x-python",
   "name": "python",
   "nbconvert_exporter": "python",
   "pygments_lexer": "ipython3",
   "version": "3.9.12"
  },
  "orig_nbformat": 4
 },
 "nbformat": 4,
 "nbformat_minor": 2
}
